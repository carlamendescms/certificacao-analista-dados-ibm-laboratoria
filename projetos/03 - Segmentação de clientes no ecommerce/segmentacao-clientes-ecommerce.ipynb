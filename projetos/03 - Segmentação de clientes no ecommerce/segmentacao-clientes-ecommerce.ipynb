{
 "cells": [
  {
   "cell_type": "markdown",
   "metadata": {},
   "source": [
    "# Projeto 3: Segmentação de clientes no ecommerce\n",
    "\n",
    "\n",
    "Realizar uma segmentação de clientes aplicando a metodologia RFM para um e-commerce."
   ]
  },
  {
   "cell_type": "markdown",
   "metadata": {},
   "source": [
    "# 1 - Contexto\n",
    " \n",
    "O dataset utilizado neste notebook pode ser obtido [nesse projeto no Kaggle](https://www.kaggle.com/datasets/datacertlaboratoria/projeto-3-segmentao-de-clientes-no-ecommerce).\n",
    "\n",
    "Neste projeto, deverá ser realizada uma análise descritiva para o CEO de uma empresa de varejo que apresentará o quão bem ou mal as vendas estão indo na empresa, medir o engajamento do cliente com base em uma análise de coorte e realizar uma segmentação de clientes aplicando a metodologia RFM, para que o negócio possa focar seus esforços e adotar estratégias diferenciadas para cada segmento. \n",
    "\n",
    "Além disso, este projeto tem como objetivo mostrar a importância da limpeza e do tratamento dos dados antes de realizar qualquer análise.\n",
    "\n",
    "\n",
    "\n",
    "\n"
   ]
  },
  {
   "cell_type": "markdown",
   "metadata": {},
   "source": [
    "## Este notebook está divido em 4 partes:\n",
    "\n",
    "### Pré processamento dos dados\n",
    "\n",
    "- Revisar a qualidade do banco de dados, remover dados duplicados que não façam sentido, encontrar dados ausentes e substituí-los/removê-los e procurar dados não correspondentes (por exemplo, números negativos em colunas que normalmente são números positivos). \n",
    "\n",
    "- O pré-processamento dos dados é uma etapa fundamental e básica em todas as análises de dados.\n",
    "\n",
    "O item 2 neste notebook abrangerá essa parte.\n",
    "\n",
    "### Análise Exploratória\n",
    "\n",
    "- Utilizar uma ferramenta de visualização, no caso o Google Data Studio, e fazer gráficos, resumir e estruturar as informações mais relevantes.\n",
    "\n",
    "- A ideia é poder mostrar visualmente as principais características do conjunto de dados, com foco em métricas de vendas como as listadas por seu chefe no briefing.\n",
    "\n",
    "O item 3 irá auxiliar na criação dos gráficos.\n",
    "\n",
    "### Análise de Coorte\n",
    "\n",
    "- Aplicar uma análise de coorte para clientes britânicos e estrangeiros para ver qual dos dois públicos tem os clientes mais leais.\n",
    "\n",
    "O item 4 neste notebook irá gerar o gráfico de coorte dos clientes.\n",
    "\n",
    "### Segmentação de clientes\n",
    "\n",
    "- Segmentar seus clientes com base em três características: Recência, Frequência e Valor Monetário.\n",
    "\n",
    "O item 5 irá apresentar a segmentação dos clientes e terá como resultado a categorização deles."
   ]
  },
  {
   "cell_type": "markdown",
   "metadata": {},
   "source": [
    "Como resultado final será gerado um arquivo CSV para apoio nas análises em ferramentas de visualização."
   ]
  },
  {
   "cell_type": "markdown",
   "metadata": {},
   "source": [
    "# 2 - Importar, entender o dataset e limpar os dados"
   ]
  },
  {
   "cell_type": "markdown",
   "metadata": {},
   "source": [
    "## Importando as bibliotecas \n",
    "\n",
    "As bibliotecas utilizadas neste projeto são: [Pandas](https://pandas.pydata.org/pandas-docs/stable/index.html), [NumPy](https://numpy.org/), [Seaborn](https://seaborn.pydata.org/index.html) e [Matplolib](https://matplotlib.org/)."
   ]
  },
  {
   "cell_type": "code",
   "execution_count": 131,
   "metadata": {},
   "outputs": [
    {
     "name": "stdout",
     "output_type": "stream",
     "text": [
      "Requirement already satisfied: xlrd in c:\\users\\carla\\anaconda3\\lib\\site-packages (2.0.1)\n",
      "Note: you may need to restart the kernel to use updated packages.\n"
     ]
    }
   ],
   "source": [
    "%pip install --upgrade xlrd"
   ]
  },
  {
   "cell_type": "code",
   "execution_count": 132,
   "metadata": {},
   "outputs": [],
   "source": [
    "import pandas as pd\n",
    "import numpy as np\n",
    "import seaborn as sns\n",
    "import matplotlib.pyplot as plt\n",
    "\n",
    "import warnings\n",
    "warnings.simplefilter(action='ignore', category=FutureWarning)"
   ]
  },
  {
   "cell_type": "code",
   "execution_count": 133,
   "metadata": {},
   "outputs": [
    {
     "name": "stdout",
     "output_type": "stream",
     "text": [
      "Versão do Pandas -> 1.3.4\n",
      "Versão do Numpy -> 1.20.3\n",
      "Versão do Seaborn -> 0.11.2\n"
     ]
    }
   ],
   "source": [
    "print('Versão do Pandas -> %s' % pd.__version__)\n",
    "print('Versão do Numpy -> %s' % np.__version__)\n",
    "print('Versão do Seaborn -> %s' % sns.__version__)"
   ]
  },
  {
   "cell_type": "code",
   "execution_count": 134,
   "metadata": {},
   "outputs": [],
   "source": [
    "df = pd.read_csv(\"./dados/vendas-por-fatura.csv\")"
   ]
  },
  {
   "cell_type": "markdown",
   "metadata": {},
   "source": [
    "Analisando o dataset importado"
   ]
  },
  {
   "cell_type": "code",
   "execution_count": 135,
   "metadata": {},
   "outputs": [
    {
     "data": {
      "text/html": [
       "<div>\n",
       "<style scoped>\n",
       "    .dataframe tbody tr th:only-of-type {\n",
       "        vertical-align: middle;\n",
       "    }\n",
       "\n",
       "    .dataframe tbody tr th {\n",
       "        vertical-align: top;\n",
       "    }\n",
       "\n",
       "    .dataframe thead th {\n",
       "        text-align: right;\n",
       "    }\n",
       "</style>\n",
       "<table border=\"1\" class=\"dataframe\">\n",
       "  <thead>\n",
       "    <tr style=\"text-align: right;\">\n",
       "      <th></th>\n",
       "      <th>N° da fatura</th>\n",
       "      <th>Data da fatura</th>\n",
       "      <th>ID Cliente</th>\n",
       "      <th>País</th>\n",
       "      <th>Quantidade</th>\n",
       "      <th>Valor</th>\n",
       "    </tr>\n",
       "  </thead>\n",
       "  <tbody>\n",
       "    <tr>\n",
       "      <th>0</th>\n",
       "      <td>548370</td>\n",
       "      <td>3/30/2021 16:14:00</td>\n",
       "      <td>15528.0</td>\n",
       "      <td>United Kingdom</td>\n",
       "      <td>123</td>\n",
       "      <td>229,33</td>\n",
       "    </tr>\n",
       "    <tr>\n",
       "      <th>1</th>\n",
       "      <td>575767</td>\n",
       "      <td>11/11/2021 11:11:00</td>\n",
       "      <td>17348.0</td>\n",
       "      <td>United Kingdom</td>\n",
       "      <td>163</td>\n",
       "      <td>209,73</td>\n",
       "    </tr>\n",
       "    <tr>\n",
       "      <th>2</th>\n",
       "      <td>C570727</td>\n",
       "      <td>10/12/2021 11:32:00</td>\n",
       "      <td>12471.0</td>\n",
       "      <td>Germany</td>\n",
       "      <td>-1</td>\n",
       "      <td>-1,45</td>\n",
       "    </tr>\n",
       "    <tr>\n",
       "      <th>3</th>\n",
       "      <td>549106</td>\n",
       "      <td>4/6/2021 12:08:00</td>\n",
       "      <td>17045.0</td>\n",
       "      <td>United Kingdom</td>\n",
       "      <td>1</td>\n",
       "      <td>39,95</td>\n",
       "    </tr>\n",
       "    <tr>\n",
       "      <th>4</th>\n",
       "      <td>573112</td>\n",
       "      <td>10/27/2021 15:33:00</td>\n",
       "      <td>16416.0</td>\n",
       "      <td>United Kingdom</td>\n",
       "      <td>357</td>\n",
       "      <td>344,83</td>\n",
       "    </tr>\n",
       "  </tbody>\n",
       "</table>\n",
       "</div>"
      ],
      "text/plain": [
       "  N° da fatura       Data da fatura  ID Cliente            País  Quantidade  \\\n",
       "0       548370   3/30/2021 16:14:00     15528.0  United Kingdom         123   \n",
       "1       575767  11/11/2021 11:11:00     17348.0  United Kingdom         163   \n",
       "2      C570727  10/12/2021 11:32:00     12471.0         Germany          -1   \n",
       "3       549106    4/6/2021 12:08:00     17045.0  United Kingdom           1   \n",
       "4       573112  10/27/2021 15:33:00     16416.0  United Kingdom         357   \n",
       "\n",
       "    Valor  \n",
       "0  229,33  \n",
       "1  209,73  \n",
       "2   -1,45  \n",
       "3   39,95  \n",
       "4  344,83  "
      ]
     },
     "execution_count": 135,
     "metadata": {},
     "output_type": "execute_result"
    }
   ],
   "source": [
    "df.head()"
   ]
  },
  {
   "cell_type": "code",
   "execution_count": 136,
   "metadata": {},
   "outputs": [
    {
     "data": {
      "text/plain": [
       "Index(['N° da fatura', 'Data da fatura', 'ID Cliente', 'País', 'Quantidade',\n",
       "       'Valor'],\n",
       "      dtype='object')"
      ]
     },
     "execution_count": 136,
     "metadata": {},
     "output_type": "execute_result"
    }
   ],
   "source": [
    "df.columns"
   ]
  },
  {
   "cell_type": "markdown",
   "metadata": {},
   "source": [
    "O dataset possui as 6 colunas: 'N° da fatura', 'Data da fatura', 'ID Cliente', 'País', 'Quantidade' e 'Valor' referente as faturas criadas sobre as vendas para os clientes.\n",
    "\n",
    "Iremos renomear as colunas para facilitar a sua manipulação."
   ]
  },
  {
   "cell_type": "code",
   "execution_count": 137,
   "metadata": {},
   "outputs": [
    {
     "data": {
      "text/plain": [
       "Index(['N°_da_fatura', 'Data_da_fatura', 'ID_Cliente', 'País', 'Quantidade',\n",
       "       'Valor'],\n",
       "      dtype='object')"
      ]
     },
     "execution_count": 137,
     "metadata": {},
     "output_type": "execute_result"
    }
   ],
   "source": [
    "# Renomeando as colunas\n",
    "df.columns = df.columns.str.replace(\" \", \"_\")\n",
    "df.columns"
   ]
  },
  {
   "cell_type": "markdown",
   "metadata": {},
   "source": [
    "Agora iremos analisar os tipos de dados:"
   ]
  },
  {
   "cell_type": "code",
   "execution_count": 138,
   "metadata": {},
   "outputs": [
    {
     "name": "stdout",
     "output_type": "stream",
     "text": [
      "<class 'pandas.core.frame.DataFrame'>\n",
      "RangeIndex: 25953 entries, 0 to 25952\n",
      "Data columns (total 6 columns):\n",
      " #   Column          Non-Null Count  Dtype  \n",
      "---  ------          --------------  -----  \n",
      " 0   N°_da_fatura    25953 non-null  object \n",
      " 1   Data_da_fatura  25953 non-null  object \n",
      " 2   ID_Cliente      22229 non-null  float64\n",
      " 3   País            25953 non-null  object \n",
      " 4   Quantidade      25953 non-null  int64  \n",
      " 5   Valor           25953 non-null  object \n",
      "dtypes: float64(1), int64(1), object(4)\n",
      "memory usage: 1.2+ MB\n"
     ]
    }
   ],
   "source": [
    "# analisando os tipos de dados \n",
    "df.info()"
   ]
  },
  {
   "cell_type": "markdown",
   "metadata": {},
   "source": [
    "## 2.1 - Detecção de nulos ou vazios"
   ]
  },
  {
   "cell_type": "markdown",
   "metadata": {},
   "source": [
    "É possível analisar que existem apenas 22229 linhas com dados sobre 'ID Cliente' enquanto há 25953 linhas preenchidas referente as outras colunas. Ou seja, temos que existem 3.724 registros que não conseguimos identificar quem é o cliente. \n",
    "\n",
    "Como desejamos realizar a análise de coorte, é muito importante termos certeza que **NÃO** estaremos contabilizando clientes repetidos. Por isso, iremos remover esses registros com 'ID Cliente' nulos."
   ]
  },
  {
   "cell_type": "code",
   "execution_count": 139,
   "metadata": {},
   "outputs": [
    {
     "name": "stdout",
     "output_type": "stream",
     "text": [
      "<class 'pandas.core.frame.DataFrame'>\n",
      "Int64Index: 22229 entries, 0 to 25951\n",
      "Data columns (total 6 columns):\n",
      " #   Column          Non-Null Count  Dtype  \n",
      "---  ------          --------------  -----  \n",
      " 0   N°_da_fatura    22229 non-null  object \n",
      " 1   Data_da_fatura  22229 non-null  object \n",
      " 2   ID_Cliente      22229 non-null  float64\n",
      " 3   País            22229 non-null  object \n",
      " 4   Quantidade      22229 non-null  int64  \n",
      " 5   Valor           22229 non-null  object \n",
      "dtypes: float64(1), int64(1), object(4)\n",
      "memory usage: 1.2+ MB\n"
     ]
    }
   ],
   "source": [
    "# Removendo linhas com registro nulo na coluna 'ID_Cliente'\n",
    "df = df.dropna(subset=[\"ID_Cliente\"])\n",
    "df.info()"
   ]
  },
  {
   "cell_type": "code",
   "execution_count": 140,
   "metadata": {},
   "outputs": [
    {
     "data": {
      "text/plain": [
       "False"
      ]
     },
     "execution_count": 140,
     "metadata": {},
     "output_type": "execute_result"
    }
   ],
   "source": [
    "# verificando se existem valores nulos em qualquer uma das colunas\n",
    "df.isnull().values.any()\n"
   ]
  },
  {
   "cell_type": "markdown",
   "metadata": {},
   "source": [
    "Também é possível validar que não há campos nulos em nenhuma das colunas existentes."
   ]
  },
  {
   "cell_type": "markdown",
   "metadata": {},
   "source": [
    "## 2.2 Detecção e remoção de dados duplicados"
   ]
  },
  {
   "cell_type": "code",
   "execution_count": 141,
   "metadata": {},
   "outputs": [
    {
     "data": {
      "text/plain": [
       "(22221, 6)"
      ]
     },
     "execution_count": 141,
     "metadata": {},
     "output_type": "execute_result"
    }
   ],
   "source": [
    "# Removendo os dados duplicados do dataset\n",
    "df.drop_duplicates(inplace=True)\n",
    "\n",
    "df.shape"
   ]
  },
  {
   "cell_type": "markdown",
   "metadata": {},
   "source": [
    "Foram identificadas e removidas 8 linhas duplicadas. Após isso temos 22221 registros únicos no nosso dataset."
   ]
  },
  {
   "cell_type": "markdown",
   "metadata": {},
   "source": [
    "## 2.3 Detecção e eliminação de quantidades negativas"
   ]
  },
  {
   "cell_type": "markdown",
   "metadata": {},
   "source": [
    "Como as faturas que iniciam com a letra 'C' correspondem a devolução e desejamos analisar as vendas do negócio, então iremos identificar e remover esses valores do nosso dataset."
   ]
  },
  {
   "cell_type": "code",
   "execution_count": 142,
   "metadata": {},
   "outputs": [
    {
     "data": {
      "text/html": [
       "<div>\n",
       "<style scoped>\n",
       "    .dataframe tbody tr th:only-of-type {\n",
       "        vertical-align: middle;\n",
       "    }\n",
       "\n",
       "    .dataframe tbody tr th {\n",
       "        vertical-align: top;\n",
       "    }\n",
       "\n",
       "    .dataframe thead th {\n",
       "        text-align: right;\n",
       "    }\n",
       "</style>\n",
       "<table border=\"1\" class=\"dataframe\">\n",
       "  <thead>\n",
       "    <tr style=\"text-align: right;\">\n",
       "      <th></th>\n",
       "      <th>N°_da_fatura</th>\n",
       "      <th>Data_da_fatura</th>\n",
       "      <th>ID_Cliente</th>\n",
       "      <th>País</th>\n",
       "      <th>Quantidade</th>\n",
       "      <th>Valor</th>\n",
       "    </tr>\n",
       "  </thead>\n",
       "  <tbody>\n",
       "    <tr>\n",
       "      <th>2</th>\n",
       "      <td>C570727</td>\n",
       "      <td>10/12/2021 11:32:00</td>\n",
       "      <td>12471.0</td>\n",
       "      <td>Germany</td>\n",
       "      <td>-1</td>\n",
       "      <td>-1,45</td>\n",
       "    </tr>\n",
       "    <tr>\n",
       "      <th>10</th>\n",
       "      <td>C543628</td>\n",
       "      <td>2/10/2021 15:51:00</td>\n",
       "      <td>16558.0</td>\n",
       "      <td>United Kingdom</td>\n",
       "      <td>-5</td>\n",
       "      <td>-9,25</td>\n",
       "    </tr>\n",
       "    <tr>\n",
       "      <th>17</th>\n",
       "      <td>C553508</td>\n",
       "      <td>5/17/2021 13:44:00</td>\n",
       "      <td>14000.0</td>\n",
       "      <td>United Kingdom</td>\n",
       "      <td>-3</td>\n",
       "      <td>-1,95</td>\n",
       "    </tr>\n",
       "    <tr>\n",
       "      <th>20</th>\n",
       "      <td>C577693</td>\n",
       "      <td>11/21/2021 11:48:00</td>\n",
       "      <td>12628.0</td>\n",
       "      <td>Germany</td>\n",
       "      <td>-3</td>\n",
       "      <td>-16,85</td>\n",
       "    </tr>\n",
       "    <tr>\n",
       "      <th>22</th>\n",
       "      <td>C547309</td>\n",
       "      <td>3/22/2021 11:17:00</td>\n",
       "      <td>17416.0</td>\n",
       "      <td>United Kingdom</td>\n",
       "      <td>-12</td>\n",
       "      <td>-45,00</td>\n",
       "    </tr>\n",
       "  </tbody>\n",
       "</table>\n",
       "</div>"
      ],
      "text/plain": [
       "   N°_da_fatura       Data_da_fatura  ID_Cliente            País  Quantidade  \\\n",
       "2       C570727  10/12/2021 11:32:00     12471.0         Germany          -1   \n",
       "10      C543628   2/10/2021 15:51:00     16558.0  United Kingdom          -5   \n",
       "17      C553508   5/17/2021 13:44:00     14000.0  United Kingdom          -3   \n",
       "20      C577693  11/21/2021 11:48:00     12628.0         Germany          -3   \n",
       "22      C547309   3/22/2021 11:17:00     17416.0  United Kingdom         -12   \n",
       "\n",
       "     Valor  \n",
       "2    -1,45  \n",
       "10   -9,25  \n",
       "17   -1,95  \n",
       "20  -16,85  \n",
       "22  -45,00  "
      ]
     },
     "execution_count": 142,
     "metadata": {},
     "output_type": "execute_result"
    }
   ],
   "source": [
    "devolucao = df['N°_da_fatura'].str.startswith('C')\n",
    "df[devolucao].head()\n"
   ]
  },
  {
   "cell_type": "code",
   "execution_count": 143,
   "metadata": {},
   "outputs": [
    {
     "data": {
      "text/plain": [
       "(3655, 6)"
      ]
     },
     "execution_count": 143,
     "metadata": {},
     "output_type": "execute_result"
    }
   ],
   "source": [
    "df[devolucao].shape"
   ]
  },
  {
   "cell_type": "markdown",
   "metadata": {},
   "source": [
    "Foram identificadas 3655 compras que tiveram devolução, sendo assim elas serão removidas do dataset."
   ]
  },
  {
   "cell_type": "code",
   "execution_count": 144,
   "metadata": {},
   "outputs": [
    {
     "data": {
      "text/html": [
       "<div>\n",
       "<style scoped>\n",
       "    .dataframe tbody tr th:only-of-type {\n",
       "        vertical-align: middle;\n",
       "    }\n",
       "\n",
       "    .dataframe tbody tr th {\n",
       "        vertical-align: top;\n",
       "    }\n",
       "\n",
       "    .dataframe thead th {\n",
       "        text-align: right;\n",
       "    }\n",
       "</style>\n",
       "<table border=\"1\" class=\"dataframe\">\n",
       "  <thead>\n",
       "    <tr style=\"text-align: right;\">\n",
       "      <th></th>\n",
       "      <th>N°_da_fatura</th>\n",
       "      <th>Data_da_fatura</th>\n",
       "      <th>ID_Cliente</th>\n",
       "      <th>País</th>\n",
       "      <th>Quantidade</th>\n",
       "      <th>Valor</th>\n",
       "    </tr>\n",
       "  </thead>\n",
       "  <tbody>\n",
       "    <tr>\n",
       "      <th>0</th>\n",
       "      <td>548370</td>\n",
       "      <td>3/30/2021 16:14:00</td>\n",
       "      <td>15528.0</td>\n",
       "      <td>United Kingdom</td>\n",
       "      <td>123</td>\n",
       "      <td>229,33</td>\n",
       "    </tr>\n",
       "    <tr>\n",
       "      <th>1</th>\n",
       "      <td>575767</td>\n",
       "      <td>11/11/2021 11:11:00</td>\n",
       "      <td>17348.0</td>\n",
       "      <td>United Kingdom</td>\n",
       "      <td>163</td>\n",
       "      <td>209,73</td>\n",
       "    </tr>\n",
       "    <tr>\n",
       "      <th>3</th>\n",
       "      <td>549106</td>\n",
       "      <td>4/6/2021 12:08:00</td>\n",
       "      <td>17045.0</td>\n",
       "      <td>United Kingdom</td>\n",
       "      <td>1</td>\n",
       "      <td>39,95</td>\n",
       "    </tr>\n",
       "    <tr>\n",
       "      <th>4</th>\n",
       "      <td>573112</td>\n",
       "      <td>10/27/2021 15:33:00</td>\n",
       "      <td>16416.0</td>\n",
       "      <td>United Kingdom</td>\n",
       "      <td>357</td>\n",
       "      <td>344,83</td>\n",
       "    </tr>\n",
       "    <tr>\n",
       "      <th>5</th>\n",
       "      <td>576630</td>\n",
       "      <td>11/16/2021 8:38:00</td>\n",
       "      <td>13816.0</td>\n",
       "      <td>Germany</td>\n",
       "      <td>91</td>\n",
       "      <td>199,98</td>\n",
       "    </tr>\n",
       "  </tbody>\n",
       "</table>\n",
       "</div>"
      ],
      "text/plain": [
       "  N°_da_fatura       Data_da_fatura  ID_Cliente            País  Quantidade  \\\n",
       "0       548370   3/30/2021 16:14:00     15528.0  United Kingdom         123   \n",
       "1       575767  11/11/2021 11:11:00     17348.0  United Kingdom         163   \n",
       "3       549106    4/6/2021 12:08:00     17045.0  United Kingdom           1   \n",
       "4       573112  10/27/2021 15:33:00     16416.0  United Kingdom         357   \n",
       "5       576630   11/16/2021 8:38:00     13816.0         Germany          91   \n",
       "\n",
       "    Valor  \n",
       "0  229,33  \n",
       "1  209,73  \n",
       "3   39,95  \n",
       "4  344,83  \n",
       "5  199,98  "
      ]
     },
     "execution_count": 144,
     "metadata": {},
     "output_type": "execute_result"
    }
   ],
   "source": [
    "df.drop(df[devolucao].index, inplace=True)\n",
    "df.head()"
   ]
  },
  {
   "cell_type": "code",
   "execution_count": 145,
   "metadata": {},
   "outputs": [
    {
     "data": {
      "text/plain": [
       "(18566, 6)"
      ]
     },
     "execution_count": 145,
     "metadata": {},
     "output_type": "execute_result"
    }
   ],
   "source": [
    "df.shape"
   ]
  },
  {
   "cell_type": "markdown",
   "metadata": {},
   "source": [
    "Como resultado temos 18566 registros após aplicar a limpeza nos dados."
   ]
  },
  {
   "cell_type": "markdown",
   "metadata": {},
   "source": [
    "## Tratando os dados\n",
    "\n",
    "Agora iremos realizar os tratamentos necessários para realizar as avaliações e cálculos necessários."
   ]
  },
  {
   "cell_type": "code",
   "execution_count": 146,
   "metadata": {},
   "outputs": [],
   "source": [
    "# Convertendo para tipo inteiro o 'ID_Cliente'\n",
    "df['ID_Cliente'] = df['ID_Cliente'].astype(int)"
   ]
  },
  {
   "cell_type": "code",
   "execution_count": 147,
   "metadata": {},
   "outputs": [],
   "source": [
    "# Convertendo tipo da 'Data da Fatura' para data\n",
    "df[\"Data_da_fatura\"] = pd.to_datetime(df[\"Data_da_fatura\"])"
   ]
  },
  {
   "cell_type": "code",
   "execution_count": 148,
   "metadata": {},
   "outputs": [],
   "source": [
    "# alterando a separação dos valores de ',' para '.' na coluna Valor\n",
    "df['Valor'] = df['Valor'].str.replace(\",\", \".\")"
   ]
  },
  {
   "cell_type": "code",
   "execution_count": 149,
   "metadata": {},
   "outputs": [],
   "source": [
    "# alterando o tipo da coluna 'Valor' para float\n",
    "df['Valor'] = pd.to_numeric(df['Valor'])"
   ]
  },
  {
   "cell_type": "code",
   "execution_count": 150,
   "metadata": {},
   "outputs": [],
   "source": [
    "# Obtendo Ano e Mês\n",
    "df['Ano_mes'] = df['Data_da_fatura'].dt.to_period('M')"
   ]
  },
  {
   "cell_type": "code",
   "execution_count": 151,
   "metadata": {},
   "outputs": [],
   "source": [
    "# Classificando se o cliente pertence ou não ao Reino Unido\n",
    "df.loc[df['País']==\"United Kingdom\", 'Pertence_UK'] = \"SIM\"\n",
    "df.loc[df['País']!=\"United Kingdom\", 'Pertence_UK'] = \"NÃO\""
   ]
  },
  {
   "cell_type": "code",
   "execution_count": 152,
   "metadata": {},
   "outputs": [],
   "source": [
    "# Ordenando pela Data da Fatura de maneira ascendente para facilitar nossas análises\n",
    "df.sort_values(by=['Data_da_fatura'], inplace=True)"
   ]
  },
  {
   "cell_type": "code",
   "execution_count": 153,
   "metadata": {},
   "outputs": [
    {
     "data": {
      "text/html": [
       "<div>\n",
       "<style scoped>\n",
       "    .dataframe tbody tr th:only-of-type {\n",
       "        vertical-align: middle;\n",
       "    }\n",
       "\n",
       "    .dataframe tbody tr th {\n",
       "        vertical-align: top;\n",
       "    }\n",
       "\n",
       "    .dataframe thead th {\n",
       "        text-align: right;\n",
       "    }\n",
       "</style>\n",
       "<table border=\"1\" class=\"dataframe\">\n",
       "  <thead>\n",
       "    <tr style=\"text-align: right;\">\n",
       "      <th></th>\n",
       "      <th>N°_da_fatura</th>\n",
       "      <th>Data_da_fatura</th>\n",
       "      <th>ID_Cliente</th>\n",
       "      <th>País</th>\n",
       "      <th>Quantidade</th>\n",
       "      <th>Valor</th>\n",
       "      <th>Ano_mes</th>\n",
       "      <th>Pertence_UK</th>\n",
       "    </tr>\n",
       "  </thead>\n",
       "  <tbody>\n",
       "    <tr>\n",
       "      <th>9367</th>\n",
       "      <td>536365</td>\n",
       "      <td>2020-12-01 08:26:00</td>\n",
       "      <td>17850</td>\n",
       "      <td>United Kingdom</td>\n",
       "      <td>40</td>\n",
       "      <td>139.12</td>\n",
       "      <td>2020-12</td>\n",
       "      <td>SIM</td>\n",
       "    </tr>\n",
       "    <tr>\n",
       "      <th>18259</th>\n",
       "      <td>536366</td>\n",
       "      <td>2020-12-01 08:28:00</td>\n",
       "      <td>17850</td>\n",
       "      <td>United Kingdom</td>\n",
       "      <td>12</td>\n",
       "      <td>22.20</td>\n",
       "      <td>2020-12</td>\n",
       "      <td>SIM</td>\n",
       "    </tr>\n",
       "    <tr>\n",
       "      <th>11185</th>\n",
       "      <td>536368</td>\n",
       "      <td>2020-12-01 08:34:00</td>\n",
       "      <td>13047</td>\n",
       "      <td>United Kingdom</td>\n",
       "      <td>15</td>\n",
       "      <td>70.05</td>\n",
       "      <td>2020-12</td>\n",
       "      <td>SIM</td>\n",
       "    </tr>\n",
       "    <tr>\n",
       "      <th>6876</th>\n",
       "      <td>536367</td>\n",
       "      <td>2020-12-01 08:34:00</td>\n",
       "      <td>13047</td>\n",
       "      <td>United Kingdom</td>\n",
       "      <td>83</td>\n",
       "      <td>278.73</td>\n",
       "      <td>2020-12</td>\n",
       "      <td>SIM</td>\n",
       "    </tr>\n",
       "    <tr>\n",
       "      <th>8195</th>\n",
       "      <td>536369</td>\n",
       "      <td>2020-12-01 08:35:00</td>\n",
       "      <td>13047</td>\n",
       "      <td>United Kingdom</td>\n",
       "      <td>3</td>\n",
       "      <td>17.85</td>\n",
       "      <td>2020-12</td>\n",
       "      <td>SIM</td>\n",
       "    </tr>\n",
       "    <tr>\n",
       "      <th>505</th>\n",
       "      <td>536370</td>\n",
       "      <td>2020-12-01 08:45:00</td>\n",
       "      <td>12583</td>\n",
       "      <td>France</td>\n",
       "      <td>449</td>\n",
       "      <td>855.86</td>\n",
       "      <td>2020-12</td>\n",
       "      <td>NÃO</td>\n",
       "    </tr>\n",
       "    <tr>\n",
       "      <th>12932</th>\n",
       "      <td>536371</td>\n",
       "      <td>2020-12-01 09:00:00</td>\n",
       "      <td>13748</td>\n",
       "      <td>United Kingdom</td>\n",
       "      <td>80</td>\n",
       "      <td>204.00</td>\n",
       "      <td>2020-12</td>\n",
       "      <td>SIM</td>\n",
       "    </tr>\n",
       "  </tbody>\n",
       "</table>\n",
       "</div>"
      ],
      "text/plain": [
       "      N°_da_fatura      Data_da_fatura  ID_Cliente            País  \\\n",
       "9367        536365 2020-12-01 08:26:00       17850  United Kingdom   \n",
       "18259       536366 2020-12-01 08:28:00       17850  United Kingdom   \n",
       "11185       536368 2020-12-01 08:34:00       13047  United Kingdom   \n",
       "6876        536367 2020-12-01 08:34:00       13047  United Kingdom   \n",
       "8195        536369 2020-12-01 08:35:00       13047  United Kingdom   \n",
       "505         536370 2020-12-01 08:45:00       12583          France   \n",
       "12932       536371 2020-12-01 09:00:00       13748  United Kingdom   \n",
       "\n",
       "       Quantidade   Valor  Ano_mes Pertence_UK  \n",
       "9367           40  139.12  2020-12         SIM  \n",
       "18259          12   22.20  2020-12         SIM  \n",
       "11185          15   70.05  2020-12         SIM  \n",
       "6876           83  278.73  2020-12         SIM  \n",
       "8195            3   17.85  2020-12         SIM  \n",
       "505           449  855.86  2020-12         NÃO  \n",
       "12932          80  204.00  2020-12         SIM  "
      ]
     },
     "execution_count": 153,
     "metadata": {},
     "output_type": "execute_result"
    }
   ],
   "source": [
    "df.head(7)"
   ]
  },
  {
   "cell_type": "code",
   "execution_count": 154,
   "metadata": {},
   "outputs": [
    {
     "data": {
      "text/plain": [
       "N°_da_fatura              object\n",
       "Data_da_fatura    datetime64[ns]\n",
       "ID_Cliente                 int32\n",
       "País                      object\n",
       "Quantidade                 int64\n",
       "Valor                    float64\n",
       "Ano_mes                period[M]\n",
       "Pertence_UK               object\n",
       "dtype: object"
      ]
     },
     "execution_count": 154,
     "metadata": {},
     "output_type": "execute_result"
    }
   ],
   "source": [
    "df.dtypes"
   ]
  },
  {
   "cell_type": "markdown",
   "metadata": {},
   "source": [
    "# 3 - Análise das métricas de vendas"
   ]
  },
  {
   "cell_type": "markdown",
   "metadata": {},
   "source": [
    "## 3.1 Análise do número de faturas por país\n",
    "\n",
    "Agora iremos analisar a quantidade total de faturas emitidas por país e a porcentagem de faturas representada por país."
   ]
  },
  {
   "cell_type": "code",
   "execution_count": 155,
   "metadata": {},
   "outputs": [
    {
     "data": {
      "text/html": [
       "<div>\n",
       "<style scoped>\n",
       "    .dataframe tbody tr th:only-of-type {\n",
       "        vertical-align: middle;\n",
       "    }\n",
       "\n",
       "    .dataframe tbody tr th {\n",
       "        vertical-align: top;\n",
       "    }\n",
       "\n",
       "    .dataframe thead th {\n",
       "        text-align: right;\n",
       "    }\n",
       "</style>\n",
       "<table border=\"1\" class=\"dataframe\">\n",
       "  <thead>\n",
       "    <tr style=\"text-align: right;\">\n",
       "      <th></th>\n",
       "      <th>País</th>\n",
       "      <th>N°_de_faturas</th>\n",
       "    </tr>\n",
       "  </thead>\n",
       "  <tbody>\n",
       "    <tr>\n",
       "      <th>35</th>\n",
       "      <td>United Kingdom</td>\n",
       "      <td>16676</td>\n",
       "    </tr>\n",
       "    <tr>\n",
       "      <th>14</th>\n",
       "      <td>Germany</td>\n",
       "      <td>457</td>\n",
       "    </tr>\n",
       "    <tr>\n",
       "      <th>13</th>\n",
       "      <td>France</td>\n",
       "      <td>390</td>\n",
       "    </tr>\n",
       "    <tr>\n",
       "      <th>10</th>\n",
       "      <td>EIRE</td>\n",
       "      <td>261</td>\n",
       "    </tr>\n",
       "    <tr>\n",
       "      <th>3</th>\n",
       "      <td>Belgium</td>\n",
       "      <td>98</td>\n",
       "    </tr>\n",
       "    <tr>\n",
       "      <th>23</th>\n",
       "      <td>Netherlands</td>\n",
       "      <td>95</td>\n",
       "    </tr>\n",
       "  </tbody>\n",
       "</table>\n",
       "</div>"
      ],
      "text/plain": [
       "              País  N°_de_faturas\n",
       "35  United Kingdom          16676\n",
       "14         Germany            457\n",
       "13          France            390\n",
       "10            EIRE            261\n",
       "3          Belgium             98\n",
       "23     Netherlands             95"
      ]
     },
     "execution_count": 155,
     "metadata": {},
     "output_type": "execute_result"
    }
   ],
   "source": [
    "# Quantidade de Fatura por país\n",
    "df_fatura_pais = pd.DataFrame(df.groupby(['País'])['N°_da_fatura'].count()).reset_index()\n",
    "df_fatura_pais.columns = ['País', 'N°_de_faturas']\n",
    "df_fatura_pais.sort_values('N°_de_faturas', ascending=False, inplace=True)\n",
    "df_fatura_pais.head(6)"
   ]
  },
  {
   "cell_type": "code",
   "execution_count": 156,
   "metadata": {},
   "outputs": [
    {
     "data": {
      "text/html": [
       "<div>\n",
       "<style scoped>\n",
       "    .dataframe tbody tr th:only-of-type {\n",
       "        vertical-align: middle;\n",
       "    }\n",
       "\n",
       "    .dataframe tbody tr th {\n",
       "        vertical-align: top;\n",
       "    }\n",
       "\n",
       "    .dataframe thead th {\n",
       "        text-align: right;\n",
       "    }\n",
       "</style>\n",
       "<table border=\"1\" class=\"dataframe\">\n",
       "  <thead>\n",
       "    <tr style=\"text-align: right;\">\n",
       "      <th></th>\n",
       "      <th>País</th>\n",
       "      <th>N°_de_faturas</th>\n",
       "      <th>Percentual_de_faturas_%</th>\n",
       "    </tr>\n",
       "  </thead>\n",
       "  <tbody>\n",
       "    <tr>\n",
       "      <th>35</th>\n",
       "      <td>United Kingdom</td>\n",
       "      <td>16676</td>\n",
       "      <td>89.82</td>\n",
       "    </tr>\n",
       "    <tr>\n",
       "      <th>14</th>\n",
       "      <td>Germany</td>\n",
       "      <td>457</td>\n",
       "      <td>2.46</td>\n",
       "    </tr>\n",
       "    <tr>\n",
       "      <th>13</th>\n",
       "      <td>France</td>\n",
       "      <td>390</td>\n",
       "      <td>2.10</td>\n",
       "    </tr>\n",
       "    <tr>\n",
       "      <th>10</th>\n",
       "      <td>EIRE</td>\n",
       "      <td>261</td>\n",
       "      <td>1.41</td>\n",
       "    </tr>\n",
       "    <tr>\n",
       "      <th>3</th>\n",
       "      <td>Belgium</td>\n",
       "      <td>98</td>\n",
       "      <td>0.53</td>\n",
       "    </tr>\n",
       "    <tr>\n",
       "      <th>23</th>\n",
       "      <td>Netherlands</td>\n",
       "      <td>95</td>\n",
       "      <td>0.51</td>\n",
       "    </tr>\n",
       "  </tbody>\n",
       "</table>\n",
       "</div>"
      ],
      "text/plain": [
       "              País  N°_de_faturas  Percentual_de_faturas_%\n",
       "35  United Kingdom          16676                    89.82\n",
       "14         Germany            457                     2.46\n",
       "13          France            390                     2.10\n",
       "10            EIRE            261                     1.41\n",
       "3          Belgium             98                     0.53\n",
       "23     Netherlands             95                     0.51"
      ]
     },
     "execution_count": 156,
     "metadata": {},
     "output_type": "execute_result"
    }
   ],
   "source": [
    "#calculando percentual de faturas por país\n",
    "df_fatura_pais['Percentual_de_faturas_%'] = (df_fatura_pais['N°_de_faturas']/df_fatura_pais['N°_de_faturas'].sum()) * 100\n",
    "df_fatura_pais['Percentual_de_faturas_%'] = df_fatura_pais['Percentual_de_faturas_%'].round(2)\n",
    "df_fatura_pais.head(6)"
   ]
  },
  {
   "cell_type": "markdown",
   "metadata": {},
   "source": [
    "O *Reino Unido* é o campeão em compras na UK Merch e como a empresa nasceu lá, é bem provável que isso explique o por quê dele estar em primeiro lugar. \n",
    "\n",
    "Os próximos 5 países com maior quantidade de compras são Alemanha, França, Irlanda, Bélgica e Holanda, respectivamente."
   ]
  },
  {
   "cell_type": "markdown",
   "metadata": {},
   "source": [
    "## 3.2 Análise de valor total por país\n",
    "\n",
    "Agora iremos incluir o valor médio, o valor mínimo e o valor máximo por país."
   ]
  },
  {
   "cell_type": "code",
   "execution_count": 157,
   "metadata": {},
   "outputs": [],
   "source": [
    "# calculando o valor médio, máximo e mínimo das faturas por país\n",
    "df_valor_medio = pd.DataFrame(df.groupby(['País'])['Valor'].mean()).round(2).reset_index()\n",
    "df_valor_max = pd.DataFrame(df.groupby(['País'])['Valor'].max()).reset_index()\n",
    "df_valor_min = pd.DataFrame(df.groupby(['País'])['Valor'].min()).reset_index()\n",
    "\n",
    "# criando dataframe com a união dos valores médio, máximo e mínimo encontrados\n",
    "df_valor_pais = pd.merge(df_valor_medio, df_valor_min, on=\"País\")\n",
    "df_valor_pais = pd.merge(df_valor_pais, df_valor_max, on=\"País\")\n",
    "df_valor_pais.rename(columns={\"Valor_x\":\"Valor_médio\", \"Valor_y\":\"Valor_mínimo\", \"Valor\":\"Valor_máximo\"}, inplace=True)"
   ]
  },
  {
   "cell_type": "code",
   "execution_count": 158,
   "metadata": {},
   "outputs": [
    {
     "data": {
      "text/html": [
       "<div>\n",
       "<style scoped>\n",
       "    .dataframe tbody tr th:only-of-type {\n",
       "        vertical-align: middle;\n",
       "    }\n",
       "\n",
       "    .dataframe tbody tr th {\n",
       "        vertical-align: top;\n",
       "    }\n",
       "\n",
       "    .dataframe thead th {\n",
       "        text-align: right;\n",
       "    }\n",
       "</style>\n",
       "<table border=\"1\" class=\"dataframe\">\n",
       "  <thead>\n",
       "    <tr style=\"text-align: right;\">\n",
       "      <th></th>\n",
       "      <th>País</th>\n",
       "      <th>N°_de_faturas</th>\n",
       "      <th>Percentual_de_faturas_%</th>\n",
       "      <th>Valor_médio</th>\n",
       "      <th>Valor_mínimo</th>\n",
       "      <th>Valor_máximo</th>\n",
       "    </tr>\n",
       "  </thead>\n",
       "  <tbody>\n",
       "    <tr>\n",
       "      <th>22</th>\n",
       "      <td>Singapore</td>\n",
       "      <td>7</td>\n",
       "      <td>0.04</td>\n",
       "      <td>3039.90</td>\n",
       "      <td>999.26</td>\n",
       "      <td>6068.06</td>\n",
       "    </tr>\n",
       "    <tr>\n",
       "      <th>5</th>\n",
       "      <td>Netherlands</td>\n",
       "      <td>95</td>\n",
       "      <td>0.51</td>\n",
       "      <td>3004.70</td>\n",
       "      <td>0.00</td>\n",
       "      <td>20277.92</td>\n",
       "    </tr>\n",
       "    <tr>\n",
       "      <th>7</th>\n",
       "      <td>Australia</td>\n",
       "      <td>57</td>\n",
       "      <td>0.31</td>\n",
       "      <td>2430.20</td>\n",
       "      <td>61.20</td>\n",
       "      <td>22775.93</td>\n",
       "    </tr>\n",
       "    <tr>\n",
       "      <th>15</th>\n",
       "      <td>Japan</td>\n",
       "      <td>20</td>\n",
       "      <td>0.11</td>\n",
       "      <td>1870.82</td>\n",
       "      <td>15.30</td>\n",
       "      <td>5735.24</td>\n",
       "    </tr>\n",
       "    <tr>\n",
       "      <th>33</th>\n",
       "      <td>Lebanon</td>\n",
       "      <td>1</td>\n",
       "      <td>0.01</td>\n",
       "      <td>1693.88</td>\n",
       "      <td>1693.88</td>\n",
       "      <td>1693.88</td>\n",
       "    </tr>\n",
       "  </tbody>\n",
       "</table>\n",
       "</div>"
      ],
      "text/plain": [
       "           País  N°_de_faturas  Percentual_de_faturas_%  Valor_médio  \\\n",
       "22    Singapore              7                     0.04      3039.90   \n",
       "5   Netherlands             95                     0.51      3004.70   \n",
       "7     Australia             57                     0.31      2430.20   \n",
       "15        Japan             20                     0.11      1870.82   \n",
       "33      Lebanon              1                     0.01      1693.88   \n",
       "\n",
       "    Valor_mínimo  Valor_máximo  \n",
       "22        999.26       6068.06  \n",
       "5           0.00      20277.92  \n",
       "7          61.20      22775.93  \n",
       "15         15.30       5735.24  \n",
       "33       1693.88       1693.88  "
      ]
     },
     "execution_count": 158,
     "metadata": {},
     "output_type": "execute_result"
    }
   ],
   "source": [
    "# criando dataframe com junção dos dados de quantidade e percentual de faturas e valores médio, máximo e mínimo por país\n",
    "df_analise_pais = pd.merge(df_fatura_pais, df_valor_pais, on=\"País\")\n",
    "\n",
    "# ordenando pelo valor médio de modo decrescente\n",
    "df_analise_pais.sort_values('Valor_médio', ascending=False, inplace=True)\n",
    "df_analise_pais.head(5)"
   ]
  },
  {
   "cell_type": "code",
   "execution_count": 159,
   "metadata": {},
   "outputs": [
    {
     "data": {
      "text/html": [
       "<div>\n",
       "<style scoped>\n",
       "    .dataframe tbody tr th:only-of-type {\n",
       "        vertical-align: middle;\n",
       "    }\n",
       "\n",
       "    .dataframe tbody tr th {\n",
       "        vertical-align: top;\n",
       "    }\n",
       "\n",
       "    .dataframe thead th {\n",
       "        text-align: right;\n",
       "    }\n",
       "</style>\n",
       "<table border=\"1\" class=\"dataframe\">\n",
       "  <thead>\n",
       "    <tr style=\"text-align: right;\">\n",
       "      <th></th>\n",
       "      <th>País</th>\n",
       "      <th>N°_de_faturas</th>\n",
       "      <th>Percentual_de_faturas_%</th>\n",
       "      <th>Valor_médio</th>\n",
       "      <th>Valor_mínimo</th>\n",
       "      <th>Valor_máximo</th>\n",
       "    </tr>\n",
       "  </thead>\n",
       "  <tbody>\n",
       "    <tr>\n",
       "      <th>0</th>\n",
       "      <td>United Kingdom</td>\n",
       "      <td>16676</td>\n",
       "      <td>89.82</td>\n",
       "      <td>438.26</td>\n",
       "      <td>0.00</td>\n",
       "      <td>168469.60</td>\n",
       "    </tr>\n",
       "    <tr>\n",
       "      <th>1</th>\n",
       "      <td>Germany</td>\n",
       "      <td>457</td>\n",
       "      <td>2.46</td>\n",
       "      <td>500.80</td>\n",
       "      <td>3.00</td>\n",
       "      <td>9341.26</td>\n",
       "    </tr>\n",
       "    <tr>\n",
       "      <th>2</th>\n",
       "      <td>France</td>\n",
       "      <td>390</td>\n",
       "      <td>2.10</td>\n",
       "      <td>535.96</td>\n",
       "      <td>4.63</td>\n",
       "      <td>8895.76</td>\n",
       "    </tr>\n",
       "    <tr>\n",
       "      <th>3</th>\n",
       "      <td>EIRE</td>\n",
       "      <td>261</td>\n",
       "      <td>1.41</td>\n",
       "      <td>1017.42</td>\n",
       "      <td>1.45</td>\n",
       "      <td>16774.72</td>\n",
       "    </tr>\n",
       "    <tr>\n",
       "      <th>4</th>\n",
       "      <td>Belgium</td>\n",
       "      <td>98</td>\n",
       "      <td>0.53</td>\n",
       "      <td>420.37</td>\n",
       "      <td>34.00</td>\n",
       "      <td>1491.59</td>\n",
       "    </tr>\n",
       "  </tbody>\n",
       "</table>\n",
       "</div>"
      ],
      "text/plain": [
       "             País  N°_de_faturas  Percentual_de_faturas_%  Valor_médio  \\\n",
       "0  United Kingdom          16676                    89.82       438.26   \n",
       "1         Germany            457                     2.46       500.80   \n",
       "2          France            390                     2.10       535.96   \n",
       "3            EIRE            261                     1.41      1017.42   \n",
       "4         Belgium             98                     0.53       420.37   \n",
       "\n",
       "   Valor_mínimo  Valor_máximo  \n",
       "0          0.00     168469.60  \n",
       "1          3.00       9341.26  \n",
       "2          4.63       8895.76  \n",
       "3          1.45      16774.72  \n",
       "4         34.00       1491.59  "
      ]
     },
     "execution_count": 159,
     "metadata": {},
     "output_type": "execute_result"
    }
   ],
   "source": [
    "# ordendando pelo percentual de modo decrescente\n",
    "df_analise_pais.sort_values('Percentual_de_faturas_%', ascending=False, inplace=True)\n",
    "df_analise_pais.head(5)"
   ]
  },
  {
   "cell_type": "markdown",
   "metadata": {},
   "source": [
    "O Reino Unido possui um **valor médio de £438,26** por fatura. Esse valor pode ser considerado baixo quando analisamos os 5 maiores valores médios. \n",
    "\n",
    "Também percebemos que em alguns países como a Holanda e o Reino Unido apresentam valores mínimos de fatura de £0,00. A partir disso, seria importante identificar se é um erro de lançamento de dados ou se são doações que foram realizadas. "
   ]
  },
  {
   "cell_type": "markdown",
   "metadata": {},
   "source": [
    "## 3.3 Faturas geradas por mês\n",
    "\n",
    "Vamos visualizar qual a quantidade de faturas geradas por mês ao longo do período."
   ]
  },
  {
   "cell_type": "code",
   "execution_count": 160,
   "metadata": {},
   "outputs": [],
   "source": [
    "# agrupando a quantidade de fatura por Mês e Ano.\n",
    "df_fatura_mes = pd.DataFrame(df.groupby(['Ano_mes'])['N°_da_fatura'].count()).reset_index()\n",
    "df_fatura_mes.rename(columns={\"N°_da_fatura\": \"Quantidade_de_faturas\"}, inplace=True)\n",
    "\n",
    "# convertendo tipo do dado da coluna \"Ano_mes\" para string para ser utilizando no gráfico que será gerado\n",
    "df_fatura_mes['Ano_mes'] = df_fatura_mes['Ano_mes'].astype(str)"
   ]
  },
  {
   "cell_type": "markdown",
   "metadata": {},
   "source": [
    "Para facilitar a nossa visualização, vamos apresentar esses dados em um gráfico de linha. "
   ]
  },
  {
   "cell_type": "code",
   "execution_count": 161,
   "metadata": {},
   "outputs": [
    {
     "data": {
      "text/plain": [
       "Text(0.5, 1.0, 'Total de faturas por mês')"
      ]
     },
     "execution_count": 161,
     "metadata": {},
     "output_type": "execute_result"
    },
    {
     "data": {
      "image/png": "[encoded data removed]",
      "text/plain": [
       "<Figure size 1080x576 with 1 Axes>"
      ]
     },
     "metadata": {},
     "output_type": "display_data"
    }
   ],
   "source": [
    "# plotando o gráfico\n",
    "sns.set_theme(style=\"whitegrid\")\n",
    "plt.figure(figsize = (15,8))\n",
    "qtd_fatura = sns.lineplot(data=df_fatura_mes, x=\"Ano_mes\", y=\"Quantidade_de_faturas\", \n",
    "                            color=\"magenta\",   linewidth=2.5, marker=\"o\")\n",
    "qtd_fatura.set_xlabel('Período')\n",
    "qtd_fatura.set_ylabel('Quantidade de Faturas')\n",
    "qtd_fatura.set_title('Total de faturas por mês')"
   ]
  },
  {
   "cell_type": "markdown",
   "metadata": {},
   "source": [
    "## 3.4 Número de faturas do Reino Unido versus estrangeiras por mês\n",
    "\n",
    "Após segmentar os clientes da UK Merch em dois grupos: os que pertencem ao Reino Unido e os que não pertencem ao Reino Unido, agora iremos verificar a quantidade desses dois grupos.\n"
   ]
  },
  {
   "cell_type": "markdown",
   "metadata": {},
   "source": [
    "\n",
    "Primeiramente iremos verificar quais são países que existem no nosso dataset."
   ]
  },
  {
   "cell_type": "code",
   "execution_count": 162,
   "metadata": {},
   "outputs": [
    {
     "data": {
      "text/plain": [
       "array(['United Kingdom', 'France', 'Australia', 'Netherlands', 'Germany',\n",
       "       'Norway', 'EIRE', 'Switzerland', 'Spain', 'Poland', 'Portugal',\n",
       "       'Italy', 'Belgium', 'Lithuania', 'Japan', 'Iceland',\n",
       "       'Channel Islands', 'Denmark', 'Cyprus', 'Sweden', 'Finland',\n",
       "       'Austria', 'Greece', 'Singapore', 'Lebanon',\n",
       "       'United Arab Emirates', 'Israel', 'Saudi Arabia', 'Czech Republic',\n",
       "       'Canada', 'Unspecified', 'Brazil', 'USA', 'European Community',\n",
       "       'Bahrain', 'Malta', 'RSA'], dtype=object)"
      ]
     },
     "execution_count": 162,
     "metadata": {},
     "output_type": "execute_result"
    }
   ],
   "source": [
    "df['País'].unique()"
   ]
  },
  {
   "cell_type": "code",
   "execution_count": 163,
   "metadata": {},
   "outputs": [
    {
     "data": {
      "text/plain": [
       "(8, 8)"
      ]
     },
     "execution_count": 163,
     "metadata": {},
     "output_type": "execute_result"
    }
   ],
   "source": [
    "# contando quantidade de faturas sem país especificado\n",
    "nao_especificado = df[df['País']=='Unspecified']\n",
    "nao_especificado.shape"
   ]
  },
  {
   "cell_type": "code",
   "execution_count": 164,
   "metadata": {},
   "outputs": [
    {
     "data": {
      "text/plain": [
       "333.38375"
      ]
     },
     "execution_count": 164,
     "metadata": {},
     "output_type": "execute_result"
    }
   ],
   "source": [
    "nao_especificado['Valor'].mean()"
   ]
  },
  {
   "cell_type": "code",
   "execution_count": 165,
   "metadata": {},
   "outputs": [
    {
     "data": {
      "text/plain": [
       "2667.07"
      ]
     },
     "execution_count": 165,
     "metadata": {},
     "output_type": "execute_result"
    }
   ],
   "source": [
    "nao_especificado['Valor'].sum()"
   ]
  },
  {
   "cell_type": "markdown",
   "metadata": {},
   "source": [
    "Percebe-se que existem 8 faturas que não possuem o país de origem definidos e não conseguidos garantir que estas faturas sejam ou não do Reino Unido. Porém como a soma e a média dos valores das faturas não apresentam tando impacto aos resultados finais quando comparados aos valores totais das faturas do dataset, então iremos realizar a análise contabilizando-os, deixando como não pertencentes ao Reino Unido nas somas gerais."
   ]
  },
  {
   "cell_type": "code",
   "execution_count": 166,
   "metadata": {},
   "outputs": [],
   "source": [
    "# agrupando a quantidade de faturas por ano e se pertence ou não ao Reino Unido\n",
    "df_fatura_mes_pais = pd.DataFrame(df.groupby(['Ano_mes', 'Pertence_UK'])['N°_da_fatura'].count()).reset_index()\n",
    "\n",
    "# renomeando a coluna N°_da_fatura\n",
    "df_fatura_mes_pais.rename(columns={\"N°_da_fatura\":\"Quantidade_de_faturas\"}, inplace=True)\n",
    "\n",
    "# convertendo tipo do dado da coluna \"Ano_mes\" para string para ser utilizando no gráfico que será gerado\n",
    "df_fatura_mes_pais['Ano_mes'] = df_fatura_mes_pais['Ano_mes'].astype(str)"
   ]
  },
  {
   "cell_type": "markdown",
   "metadata": {},
   "source": [
    "\n",
    "Visualizando os dados em um gráfico de linhas"
   ]
  },
  {
   "cell_type": "code",
   "execution_count": 167,
   "metadata": {},
   "outputs": [
    {
     "data": {
      "text/plain": [
       "<matplotlib.legend.Legend at 0x2347adf6430>"
      ]
     },
     "execution_count": 167,
     "metadata": {},
     "output_type": "execute_result"
    },
    {
     "data": {
      "image/png": "[encoded data removed]",
      "text/plain": [
       "<Figure size 1080x576 with 1 Axes>"
      ]
     },
     "metadata": {},
     "output_type": "display_data"
    }
   ],
   "source": [
    "# plotando o gráfico\n",
    "sns.set_theme(style=\"whitegrid\")\n",
    "plt.figure(figsize = (15,8))\n",
    "qtd_fatura = sns.lineplot(data=df_fatura_mes_pais, x=\"Ano_mes\", y=\"Quantidade_de_faturas\", \n",
    "                            hue=\"Pertence_UK\", legend=False, palette=\"tab10\", linewidth=2.5, marker=\"o\")\n",
    "qtd_fatura.set_xlabel('Período')\n",
    "qtd_fatura.set_ylabel('Quantidade de Faturas')\n",
    "qtd_fatura.set_title('Total de faturas por mês')\n",
    "\n",
    "# alterando posição e nome dos dados da legenda\n",
    "plt.legend(labels = ['Não Pertence a UK','Pertence a UK'],loc = 2, bbox_to_anchor = (1,1))"
   ]
  },
  {
   "cell_type": "markdown",
   "metadata": {},
   "source": [
    "Analisando o gráfico pode-se perceber que, sem levar em conta o mês atípico de dezembro de 2021, ambos os segmentos estão crescendo."
   ]
  },
  {
   "cell_type": "markdown",
   "metadata": {},
   "source": [
    "# 4. Análise de Coorte\n",
    "\n",
    "Nesta seção será apresentado a análise de coorte dos clientes."
   ]
  },
  {
   "cell_type": "code",
   "execution_count": 168,
   "metadata": {},
   "outputs": [
    {
     "data": {
      "text/html": [
       "<div>\n",
       "<style scoped>\n",
       "    .dataframe tbody tr th:only-of-type {\n",
       "        vertical-align: middle;\n",
       "    }\n",
       "\n",
       "    .dataframe tbody tr th {\n",
       "        vertical-align: top;\n",
       "    }\n",
       "\n",
       "    .dataframe thead th {\n",
       "        text-align: right;\n",
       "    }\n",
       "</style>\n",
       "<table border=\"1\" class=\"dataframe\">\n",
       "  <thead>\n",
       "    <tr style=\"text-align: right;\">\n",
       "      <th></th>\n",
       "      <th>Ano_mes</th>\n",
       "      <th>ID_Cliente</th>\n",
       "    </tr>\n",
       "  </thead>\n",
       "  <tbody>\n",
       "    <tr>\n",
       "      <th>0</th>\n",
       "      <td>2020-12</td>\n",
       "      <td>885</td>\n",
       "    </tr>\n",
       "    <tr>\n",
       "      <th>1</th>\n",
       "      <td>2021-01</td>\n",
       "      <td>741</td>\n",
       "    </tr>\n",
       "    <tr>\n",
       "      <th>2</th>\n",
       "      <td>2021-02</td>\n",
       "      <td>758</td>\n",
       "    </tr>\n",
       "    <tr>\n",
       "      <th>3</th>\n",
       "      <td>2021-03</td>\n",
       "      <td>974</td>\n",
       "    </tr>\n",
       "    <tr>\n",
       "      <th>4</th>\n",
       "      <td>2021-04</td>\n",
       "      <td>856</td>\n",
       "    </tr>\n",
       "    <tr>\n",
       "      <th>5</th>\n",
       "      <td>2021-05</td>\n",
       "      <td>1056</td>\n",
       "    </tr>\n",
       "    <tr>\n",
       "      <th>6</th>\n",
       "      <td>2021-06</td>\n",
       "      <td>991</td>\n",
       "    </tr>\n",
       "    <tr>\n",
       "      <th>7</th>\n",
       "      <td>2021-07</td>\n",
       "      <td>949</td>\n",
       "    </tr>\n",
       "    <tr>\n",
       "      <th>8</th>\n",
       "      <td>2021-08</td>\n",
       "      <td>935</td>\n",
       "    </tr>\n",
       "    <tr>\n",
       "      <th>9</th>\n",
       "      <td>2021-09</td>\n",
       "      <td>1266</td>\n",
       "    </tr>\n",
       "    <tr>\n",
       "      <th>10</th>\n",
       "      <td>2021-10</td>\n",
       "      <td>1364</td>\n",
       "    </tr>\n",
       "    <tr>\n",
       "      <th>11</th>\n",
       "      <td>2021-11</td>\n",
       "      <td>1665</td>\n",
       "    </tr>\n",
       "    <tr>\n",
       "      <th>12</th>\n",
       "      <td>2021-12</td>\n",
       "      <td>615</td>\n",
       "    </tr>\n",
       "  </tbody>\n",
       "</table>\n",
       "</div>"
      ],
      "text/plain": [
       "    Ano_mes  ID_Cliente\n",
       "0   2020-12         885\n",
       "1   2021-01         741\n",
       "2   2021-02         758\n",
       "3   2021-03         974\n",
       "4   2021-04         856\n",
       "5   2021-05        1056\n",
       "6   2021-06         991\n",
       "7   2021-07         949\n",
       "8   2021-08         935\n",
       "9   2021-09        1266\n",
       "10  2021-10        1364\n",
       "11  2021-11        1665\n",
       "12  2021-12         615"
      ]
     },
     "execution_count": 168,
     "metadata": {},
     "output_type": "execute_result"
    }
   ],
   "source": [
    "# contando clientes únicos por ano/mês\n",
    "df_coorte = pd.DataFrame(df.groupby(['Ano_mes'])['ID_Cliente'].nunique()).reset_index()\n",
    "df_coorte"
   ]
  },
  {
   "cell_type": "markdown",
   "metadata": {},
   "source": [
    "# 5 - Segmentação de clientes\n",
    "\n",
    "Aqui será realizada a categorização dos clientes.\n"
   ]
  },
  {
   "cell_type": "markdown",
   "metadata": {},
   "source": [
    "# Salvando os dados tratados para criação de análises no Google Data Studio"
   ]
  },
  {
   "cell_type": "code",
   "execution_count": 169,
   "metadata": {},
   "outputs": [],
   "source": [
    "#alterando o tipo para string nas colunas que representam moeda nos dataframes para facilitar a manipulação no Google Sheets\n",
    "df['Valor'] = df['Valor'].astype(str)\n",
    "\n",
    "# alterando a separação dos valores de '.' para ',' na coluna Valor para facilitar conversão em moeda no Google Sheets\n",
    "df['Valor'] = df['Valor'].str.replace(\".\", \",\")"
   ]
  },
  {
   "cell_type": "code",
   "execution_count": 170,
   "metadata": {},
   "outputs": [],
   "source": [
    "#alterando o tipo para string nas colunas que representam moeda nos dataframes para facilitar a manipulação no Google Sheets\n",
    "df_analise_pais['Valor_médio'] = (df_analise_pais['Valor_médio']).astype(str)\n",
    "df_analise_pais['Valor_mínimo'] = (df_analise_pais['Valor_mínimo']).astype(str)\n",
    "df_analise_pais['Valor_máximo'] = (df_analise_pais['Valor_máximo']).astype(str)\n",
    "\n",
    "# alterando a separação dos valores de '.' para ',' na coluna Valor para facilitar conversão em moeda no Google Sheets\n",
    "df_analise_pais['Valor_médio'] = df_analise_pais['Valor_médio'].str.replace(\".\", \",\")\n",
    "df_analise_pais['Valor_mínimo'] = df_analise_pais['Valor_mínimo'].str.replace(\".\", \",\")\n",
    "df_analise_pais['Valor_máximo'] = df_analise_pais['Valor_máximo'].str.replace(\".\", \",\")"
   ]
  },
  {
   "cell_type": "code",
   "execution_count": 171,
   "metadata": {},
   "outputs": [],
   "source": [
    "# Salvando arquivo csv dos dados tratados \n",
    "diretorio = \"./dados/dados-tratados.csv\"\n",
    "df.to_csv(diretorio, sep=';', index=False, encoding='ISO-8859-1')"
   ]
  },
  {
   "cell_type": "code",
   "execution_count": 172,
   "metadata": {},
   "outputs": [],
   "source": [
    "# Salvando arquivo csv das métricas geradas no item 3.2\n",
    "diretorio = \"./dados/analise-vendas-pais.csv\"\n",
    "df_analise_pais.to_csv(diretorio, sep=';', index=False, encoding='ISO-8859-1')"
   ]
  }
 ],
 "metadata": {
  "interpreter": {
   "hash": "749c1fa42b8e77c9a897cb355f30513a81f4759733e4abb52f463cfc3ac7781a"
  },
  "kernelspec": {
   "display_name": "Python 3.9.7 ('base')",
   "language": "python",
   "name": "python3"
  },
  "language_info": {
   "codemirror_mode": {
    "name": "ipython",
    "version": 3
   },
   "file_extension": ".py",
   "mimetype": "text/x-python",
   "name": "python",
   "nbconvert_exporter": "python",
   "pygments_lexer": "ipython3",
   "version": "3.9.7"
  },
  "orig_nbformat": 4
 },
 "nbformat": 4,
 "nbformat_minor": 2
}
