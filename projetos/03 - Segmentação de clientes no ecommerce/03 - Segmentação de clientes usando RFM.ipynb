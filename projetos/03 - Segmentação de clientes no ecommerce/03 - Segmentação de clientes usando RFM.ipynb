{
 "cells": [
  {
   "cell_type": "markdown",
   "metadata": {},
   "source": [
    "# Análise de segmentação de clientes usando RFM"
   ]
  },
  {
   "cell_type": "markdown",
   "metadata": {},
   "source": [
    "## O que é?\n",
    "\n",
    "A análise de RFM para segmentação de clientes é uma estratégia de marketing usada para mensurar o valor de um cliente para continuidade de um negócio, de acordo com três informações:\n",
    "\n",
    "- Recência: o quão recentemente um cliente fez uma compra;\n",
    "- Frequência: com que frequência o cliente faz uma compra; e\n",
    "- Monetaridade: quanto dinheiro um cliente gasta em compras.\n",
    "\n",
    "Essas três informações sobre um cliente "
   ]
  },
  {
   "cell_type": "code",
   "execution_count": 100,
   "metadata": {},
   "outputs": [
    {
     "name": "stdout",
     "output_type": "stream",
     "text": [
      "Requirement already satisfied: xlrd in c:\\users\\carla\\anaconda3\\lib\\site-packages (2.0.1)\n",
      "Note: you may need to restart the kernel to use updated packages.\n"
     ]
    }
   ],
   "source": [
    "# Importando as bibliotecas\n",
    "%pip install --upgrade xlrd\n",
    "\n",
    "import pandas as pd\n",
    "import numpy as np\n",
    "import seaborn as sns\n",
    "import matplotlib.pyplot as plt\n",
    "import datetime as dt\n",
    "\n",
    "import warnings\n",
    "warnings.simplefilter(action='ignore', category=FutureWarning)"
   ]
  },
  {
   "cell_type": "code",
   "execution_count": 101,
   "metadata": {},
   "outputs": [
    {
     "name": "stdout",
     "output_type": "stream",
     "text": [
      "Versão do Pandas -> 1.3.4\n",
      "Versão do Numpy -> 1.20.3\n",
      "Versão do Seaborn -> 0.11.2\n"
     ]
    }
   ],
   "source": [
    "# Verificando as versões das bibliotecas utilizadas\n",
    "print('Versão do Pandas -> %s' % pd.__version__)\n",
    "print('Versão do Numpy -> %s' % np.__version__)\n",
    "print('Versão do Seaborn -> %s' % sns.__version__)"
   ]
  },
  {
   "cell_type": "markdown",
   "metadata": {},
   "source": [
    "Importando os dados já previamente tratados no Notebook 01 - Tratamento e análise exploratória dos dados"
   ]
  },
  {
   "cell_type": "code",
   "execution_count": 102,
   "metadata": {},
   "outputs": [
    {
     "data": {
      "text/html": [
       "<div>\n",
       "<style scoped>\n",
       "    .dataframe tbody tr th:only-of-type {\n",
       "        vertical-align: middle;\n",
       "    }\n",
       "\n",
       "    .dataframe tbody tr th {\n",
       "        vertical-align: top;\n",
       "    }\n",
       "\n",
       "    .dataframe thead th {\n",
       "        text-align: right;\n",
       "    }\n",
       "</style>\n",
       "<table border=\"1\" class=\"dataframe\">\n",
       "  <thead>\n",
       "    <tr style=\"text-align: right;\">\n",
       "      <th></th>\n",
       "      <th>N°_da_fatura</th>\n",
       "      <th>Data_da_fatura</th>\n",
       "      <th>ID_Cliente</th>\n",
       "      <th>País</th>\n",
       "      <th>Quantidade</th>\n",
       "      <th>Valor</th>\n",
       "      <th>Ano_mes</th>\n",
       "      <th>Pertence_UK</th>\n",
       "    </tr>\n",
       "  </thead>\n",
       "  <tbody>\n",
       "    <tr>\n",
       "      <th>0</th>\n",
       "      <td>536365</td>\n",
       "      <td>2020-12-01 08:26:00</td>\n",
       "      <td>17850</td>\n",
       "      <td>United Kingdom</td>\n",
       "      <td>40</td>\n",
       "      <td>139.12</td>\n",
       "      <td>2020-12</td>\n",
       "      <td>SIM</td>\n",
       "    </tr>\n",
       "    <tr>\n",
       "      <th>1</th>\n",
       "      <td>536366</td>\n",
       "      <td>2020-12-01 08:28:00</td>\n",
       "      <td>17850</td>\n",
       "      <td>United Kingdom</td>\n",
       "      <td>12</td>\n",
       "      <td>22.20</td>\n",
       "      <td>2020-12</td>\n",
       "      <td>SIM</td>\n",
       "    </tr>\n",
       "    <tr>\n",
       "      <th>2</th>\n",
       "      <td>536368</td>\n",
       "      <td>2020-12-01 08:34:00</td>\n",
       "      <td>13047</td>\n",
       "      <td>United Kingdom</td>\n",
       "      <td>15</td>\n",
       "      <td>70.05</td>\n",
       "      <td>2020-12</td>\n",
       "      <td>SIM</td>\n",
       "    </tr>\n",
       "    <tr>\n",
       "      <th>3</th>\n",
       "      <td>536367</td>\n",
       "      <td>2020-12-01 08:34:00</td>\n",
       "      <td>13047</td>\n",
       "      <td>United Kingdom</td>\n",
       "      <td>83</td>\n",
       "      <td>278.73</td>\n",
       "      <td>2020-12</td>\n",
       "      <td>SIM</td>\n",
       "    </tr>\n",
       "    <tr>\n",
       "      <th>4</th>\n",
       "      <td>536369</td>\n",
       "      <td>2020-12-01 08:35:00</td>\n",
       "      <td>13047</td>\n",
       "      <td>United Kingdom</td>\n",
       "      <td>3</td>\n",
       "      <td>17.85</td>\n",
       "      <td>2020-12</td>\n",
       "      <td>SIM</td>\n",
       "    </tr>\n",
       "  </tbody>\n",
       "</table>\n",
       "</div>"
      ],
      "text/plain": [
       "   N°_da_fatura       Data_da_fatura  ID_Cliente            País  Quantidade  \\\n",
       "0        536365  2020-12-01 08:26:00       17850  United Kingdom          40   \n",
       "1        536366  2020-12-01 08:28:00       17850  United Kingdom          12   \n",
       "2        536368  2020-12-01 08:34:00       13047  United Kingdom          15   \n",
       "3        536367  2020-12-01 08:34:00       13047  United Kingdom          83   \n",
       "4        536369  2020-12-01 08:35:00       13047  United Kingdom           3   \n",
       "\n",
       "    Valor  Ano_mes Pertence_UK  \n",
       "0  139.12  2020-12         SIM  \n",
       "1   22.20  2020-12         SIM  \n",
       "2   70.05  2020-12         SIM  \n",
       "3  278.73  2020-12         SIM  \n",
       "4   17.85  2020-12         SIM  "
      ]
     },
     "execution_count": 102,
     "metadata": {},
     "output_type": "execute_result"
    }
   ],
   "source": [
    "df = pd.read_csv(\"./dados/dados-tratados.csv\", sep=';')\n",
    "df.head()"
   ]
  },
  {
   "cell_type": "code",
   "execution_count": 103,
   "metadata": {},
   "outputs": [],
   "source": [
    "# convertendo para o tipo data a coluna 'Data_da_fatura'\n",
    "df['Data_da_fatura'] = pd.to_datetime(df['Data_da_fatura']).dt.date"
   ]
  },
  {
   "cell_type": "markdown",
   "metadata": {},
   "source": [
    "# 1. Calculando a Recência, Frequência e Valor Monetário"
   ]
  },
  {
   "cell_type": "markdown",
   "metadata": {},
   "source": [
    "## 1.1 Calculando a **Recência** dos clientes"
   ]
  },
  {
   "cell_type": "code",
   "execution_count": 104,
   "metadata": {},
   "outputs": [
    {
     "data": {
      "text/html": [
       "<div>\n",
       "<style scoped>\n",
       "    .dataframe tbody tr th:only-of-type {\n",
       "        vertical-align: middle;\n",
       "    }\n",
       "\n",
       "    .dataframe tbody tr th {\n",
       "        vertical-align: top;\n",
       "    }\n",
       "\n",
       "    .dataframe thead th {\n",
       "        text-align: right;\n",
       "    }\n",
       "</style>\n",
       "<table border=\"1\" class=\"dataframe\">\n",
       "  <thead>\n",
       "    <tr style=\"text-align: right;\">\n",
       "      <th></th>\n",
       "      <th>Cliente</th>\n",
       "      <th>Data_ultima_compra</th>\n",
       "      <th>Recencia</th>\n",
       "    </tr>\n",
       "  </thead>\n",
       "  <tbody>\n",
       "    <tr>\n",
       "      <th>0</th>\n",
       "      <td>12346</td>\n",
       "      <td>2021-01-18</td>\n",
       "      <td>325</td>\n",
       "    </tr>\n",
       "    <tr>\n",
       "      <th>1</th>\n",
       "      <td>12347</td>\n",
       "      <td>2021-12-07</td>\n",
       "      <td>2</td>\n",
       "    </tr>\n",
       "    <tr>\n",
       "      <th>2</th>\n",
       "      <td>12348</td>\n",
       "      <td>2021-09-25</td>\n",
       "      <td>75</td>\n",
       "    </tr>\n",
       "    <tr>\n",
       "      <th>3</th>\n",
       "      <td>12349</td>\n",
       "      <td>2021-11-21</td>\n",
       "      <td>18</td>\n",
       "    </tr>\n",
       "    <tr>\n",
       "      <th>4</th>\n",
       "      <td>12350</td>\n",
       "      <td>2021-02-02</td>\n",
       "      <td>310</td>\n",
       "    </tr>\n",
       "  </tbody>\n",
       "</table>\n",
       "</div>"
      ],
      "text/plain": [
       "   Cliente Data_ultima_compra  Recencia\n",
       "0    12346         2021-01-18       325\n",
       "1    12347         2021-12-07         2\n",
       "2    12348         2021-09-25        75\n",
       "3    12349         2021-11-21        18\n",
       "4    12350         2021-02-02       310"
      ]
     },
     "execution_count": 104,
     "metadata": {},
     "output_type": "execute_result"
    }
   ],
   "source": [
    "df_recencia = df.groupby(by='ID_Cliente', as_index=False)['Data_da_fatura'].max()\n",
    "df_recencia.columns = ['Cliente', 'Data_ultima_compra']\n",
    "\n",
    "data_recencia = df_recencia['Data_ultima_compra'].max()\n",
    "df_recencia['Recencia'] = df_recencia['Data_ultima_compra'].apply(lambda x: (data_recencia - x).days)\n",
    "df_recencia.head()\n"
   ]
  },
  {
   "cell_type": "markdown",
   "metadata": {},
   "source": [
    "## 1.2 Calculando a **Frequência** dos clientes"
   ]
  },
  {
   "cell_type": "code",
   "execution_count": 105,
   "metadata": {},
   "outputs": [
    {
     "data": {
      "text/html": [
       "<div>\n",
       "<style scoped>\n",
       "    .dataframe tbody tr th:only-of-type {\n",
       "        vertical-align: middle;\n",
       "    }\n",
       "\n",
       "    .dataframe tbody tr th {\n",
       "        vertical-align: top;\n",
       "    }\n",
       "\n",
       "    .dataframe thead th {\n",
       "        text-align: right;\n",
       "    }\n",
       "</style>\n",
       "<table border=\"1\" class=\"dataframe\">\n",
       "  <thead>\n",
       "    <tr style=\"text-align: right;\">\n",
       "      <th></th>\n",
       "      <th>Cliente</th>\n",
       "      <th>Frequencia</th>\n",
       "    </tr>\n",
       "  </thead>\n",
       "  <tbody>\n",
       "    <tr>\n",
       "      <th>0</th>\n",
       "      <td>12346</td>\n",
       "      <td>1</td>\n",
       "    </tr>\n",
       "    <tr>\n",
       "      <th>1</th>\n",
       "      <td>12347</td>\n",
       "      <td>7</td>\n",
       "    </tr>\n",
       "    <tr>\n",
       "      <th>2</th>\n",
       "      <td>12348</td>\n",
       "      <td>4</td>\n",
       "    </tr>\n",
       "    <tr>\n",
       "      <th>3</th>\n",
       "      <td>12349</td>\n",
       "      <td>1</td>\n",
       "    </tr>\n",
       "    <tr>\n",
       "      <th>4</th>\n",
       "      <td>12350</td>\n",
       "      <td>1</td>\n",
       "    </tr>\n",
       "  </tbody>\n",
       "</table>\n",
       "</div>"
      ],
      "text/plain": [
       "   Cliente  Frequencia\n",
       "0    12346           1\n",
       "1    12347           7\n",
       "2    12348           4\n",
       "3    12349           1\n",
       "4    12350           1"
      ]
     },
     "execution_count": 105,
     "metadata": {},
     "output_type": "execute_result"
    }
   ],
   "source": [
    "df_frequencia = df.drop_duplicates().groupby(\n",
    "    by=['ID_Cliente'], as_index=False)['Data_da_fatura'].count()\n",
    "df_frequencia.columns = ['Cliente', 'Frequencia']\n",
    "df_frequencia.head()\n"
   ]
  },
  {
   "cell_type": "markdown",
   "metadata": {},
   "source": [
    "## 1.3 Calculando o **Monetário** dos clientes"
   ]
  },
  {
   "cell_type": "code",
   "execution_count": 106,
   "metadata": {},
   "outputs": [
    {
     "data": {
      "text/html": [
       "<div>\n",
       "<style scoped>\n",
       "    .dataframe tbody tr th:only-of-type {\n",
       "        vertical-align: middle;\n",
       "    }\n",
       "\n",
       "    .dataframe tbody tr th {\n",
       "        vertical-align: top;\n",
       "    }\n",
       "\n",
       "    .dataframe thead th {\n",
       "        text-align: right;\n",
       "    }\n",
       "</style>\n",
       "<table border=\"1\" class=\"dataframe\">\n",
       "  <thead>\n",
       "    <tr style=\"text-align: right;\">\n",
       "      <th></th>\n",
       "      <th>Cliente</th>\n",
       "      <th>Monetario</th>\n",
       "    </tr>\n",
       "  </thead>\n",
       "  <tbody>\n",
       "    <tr>\n",
       "      <th>0</th>\n",
       "      <td>12346</td>\n",
       "      <td>77183.60</td>\n",
       "    </tr>\n",
       "    <tr>\n",
       "      <th>1</th>\n",
       "      <td>12347</td>\n",
       "      <td>4310.00</td>\n",
       "    </tr>\n",
       "    <tr>\n",
       "      <th>2</th>\n",
       "      <td>12348</td>\n",
       "      <td>1797.24</td>\n",
       "    </tr>\n",
       "    <tr>\n",
       "      <th>3</th>\n",
       "      <td>12349</td>\n",
       "      <td>1757.55</td>\n",
       "    </tr>\n",
       "    <tr>\n",
       "      <th>4</th>\n",
       "      <td>12350</td>\n",
       "      <td>334.40</td>\n",
       "    </tr>\n",
       "  </tbody>\n",
       "</table>\n",
       "</div>"
      ],
      "text/plain": [
       "   Cliente  Monetario\n",
       "0    12346   77183.60\n",
       "1    12347    4310.00\n",
       "2    12348    1797.24\n",
       "3    12349    1757.55\n",
       "4    12350     334.40"
      ]
     },
     "execution_count": 106,
     "metadata": {},
     "output_type": "execute_result"
    }
   ],
   "source": [
    "df_monetario = df.groupby(by='ID_Cliente', as_index=False)['Valor'].sum()\n",
    "df_monetario.columns = ['Cliente', 'Monetario']\n",
    "df_monetario.head()"
   ]
  },
  {
   "cell_type": "code",
   "execution_count": 107,
   "metadata": {},
   "outputs": [],
   "source": [
    "df_rmf = df_recencia.merge(df_frequencia, on='Cliente')\n",
    "df_rmf = df_rmf.merge(df_monetario, on='Cliente')"
   ]
  },
  {
   "cell_type": "code",
   "execution_count": 108,
   "metadata": {},
   "outputs": [],
   "source": [
    "df.drop(columns=['N°_da_fatura', 'Data_da_fatura', 'Quantidade', 'Valor', 'Ano_mes', 'Pertence_UK'], inplace=True)\n",
    "df.drop_duplicates(inplace=True)\n",
    "df.rename(columns={'ID_Cliente':'Cliente'}, inplace=True)"
   ]
  },
  {
   "cell_type": "code",
   "execution_count": 109,
   "metadata": {},
   "outputs": [
    {
     "data": {
      "text/html": [
       "<div>\n",
       "<style scoped>\n",
       "    .dataframe tbody tr th:only-of-type {\n",
       "        vertical-align: middle;\n",
       "    }\n",
       "\n",
       "    .dataframe tbody tr th {\n",
       "        vertical-align: top;\n",
       "    }\n",
       "\n",
       "    .dataframe thead th {\n",
       "        text-align: right;\n",
       "    }\n",
       "</style>\n",
       "<table border=\"1\" class=\"dataframe\">\n",
       "  <thead>\n",
       "    <tr style=\"text-align: right;\">\n",
       "      <th></th>\n",
       "      <th>Cliente</th>\n",
       "      <th>País</th>\n",
       "      <th>Data_ultima_compra</th>\n",
       "      <th>Recencia</th>\n",
       "      <th>Frequencia</th>\n",
       "      <th>Monetario</th>\n",
       "    </tr>\n",
       "  </thead>\n",
       "  <tbody>\n",
       "    <tr>\n",
       "      <th>0</th>\n",
       "      <td>17850</td>\n",
       "      <td>United Kingdom</td>\n",
       "      <td>2020-12-02</td>\n",
       "      <td>372</td>\n",
       "      <td>34</td>\n",
       "      <td>5391.21</td>\n",
       "    </tr>\n",
       "    <tr>\n",
       "      <th>1</th>\n",
       "      <td>13047</td>\n",
       "      <td>United Kingdom</td>\n",
       "      <td>2021-11-08</td>\n",
       "      <td>31</td>\n",
       "      <td>10</td>\n",
       "      <td>3237.54</td>\n",
       "    </tr>\n",
       "    <tr>\n",
       "      <th>2</th>\n",
       "      <td>12583</td>\n",
       "      <td>France</td>\n",
       "      <td>2021-12-07</td>\n",
       "      <td>2</td>\n",
       "      <td>15</td>\n",
       "      <td>7281.38</td>\n",
       "    </tr>\n",
       "    <tr>\n",
       "      <th>3</th>\n",
       "      <td>13748</td>\n",
       "      <td>United Kingdom</td>\n",
       "      <td>2021-09-05</td>\n",
       "      <td>95</td>\n",
       "      <td>5</td>\n",
       "      <td>948.25</td>\n",
       "    </tr>\n",
       "    <tr>\n",
       "      <th>4</th>\n",
       "      <td>15100</td>\n",
       "      <td>United Kingdom</td>\n",
       "      <td>2021-01-10</td>\n",
       "      <td>333</td>\n",
       "      <td>3</td>\n",
       "      <td>876.00</td>\n",
       "    </tr>\n",
       "    <tr>\n",
       "      <th>...</th>\n",
       "      <td>...</td>\n",
       "      <td>...</td>\n",
       "      <td>...</td>\n",
       "      <td>...</td>\n",
       "      <td>...</td>\n",
       "      <td>...</td>\n",
       "    </tr>\n",
       "    <tr>\n",
       "      <th>4342</th>\n",
       "      <td>13436</td>\n",
       "      <td>United Kingdom</td>\n",
       "      <td>2021-12-08</td>\n",
       "      <td>1</td>\n",
       "      <td>1</td>\n",
       "      <td>196.89</td>\n",
       "    </tr>\n",
       "    <tr>\n",
       "      <th>4343</th>\n",
       "      <td>15520</td>\n",
       "      <td>United Kingdom</td>\n",
       "      <td>2021-12-08</td>\n",
       "      <td>1</td>\n",
       "      <td>1</td>\n",
       "      <td>343.50</td>\n",
       "    </tr>\n",
       "    <tr>\n",
       "      <th>4344</th>\n",
       "      <td>13298</td>\n",
       "      <td>United Kingdom</td>\n",
       "      <td>2021-12-08</td>\n",
       "      <td>1</td>\n",
       "      <td>1</td>\n",
       "      <td>360.00</td>\n",
       "    </tr>\n",
       "    <tr>\n",
       "      <th>4345</th>\n",
       "      <td>14569</td>\n",
       "      <td>United Kingdom</td>\n",
       "      <td>2021-12-08</td>\n",
       "      <td>1</td>\n",
       "      <td>1</td>\n",
       "      <td>227.39</td>\n",
       "    </tr>\n",
       "    <tr>\n",
       "      <th>4346</th>\n",
       "      <td>12713</td>\n",
       "      <td>Germany</td>\n",
       "      <td>2021-12-09</td>\n",
       "      <td>0</td>\n",
       "      <td>1</td>\n",
       "      <td>848.55</td>\n",
       "    </tr>\n",
       "  </tbody>\n",
       "</table>\n",
       "<p>4347 rows × 6 columns</p>\n",
       "</div>"
      ],
      "text/plain": [
       "      Cliente            País Data_ultima_compra  Recencia  Frequencia  \\\n",
       "0       17850  United Kingdom         2020-12-02       372          34   \n",
       "1       13047  United Kingdom         2021-11-08        31          10   \n",
       "2       12583          France         2021-12-07         2          15   \n",
       "3       13748  United Kingdom         2021-09-05        95           5   \n",
       "4       15100  United Kingdom         2021-01-10       333           3   \n",
       "...       ...             ...                ...       ...         ...   \n",
       "4342    13436  United Kingdom         2021-12-08         1           1   \n",
       "4343    15520  United Kingdom         2021-12-08         1           1   \n",
       "4344    13298  United Kingdom         2021-12-08         1           1   \n",
       "4345    14569  United Kingdom         2021-12-08         1           1   \n",
       "4346    12713         Germany         2021-12-09         0           1   \n",
       "\n",
       "      Monetario  \n",
       "0       5391.21  \n",
       "1       3237.54  \n",
       "2       7281.38  \n",
       "3        948.25  \n",
       "4        876.00  \n",
       "...         ...  \n",
       "4342     196.89  \n",
       "4343     343.50  \n",
       "4344     360.00  \n",
       "4345     227.39  \n",
       "4346     848.55  \n",
       "\n",
       "[4347 rows x 6 columns]"
      ]
     },
     "execution_count": 109,
     "metadata": {},
     "output_type": "execute_result"
    }
   ],
   "source": [
    "df_rmf = df.merge(df_rmf, on='Cliente')\n",
    "df_rmf"
   ]
  }
 ],
 "metadata": {
  "kernelspec": {
   "display_name": "Python 3.9.7 ('base')",
   "language": "python",
   "name": "python3"
  },
  "language_info": {
   "codemirror_mode": {
    "name": "ipython",
    "version": 3
   },
   "file_extension": ".py",
   "mimetype": "text/x-python",
   "name": "python",
   "nbconvert_exporter": "python",
   "pygments_lexer": "ipython3",
   "version": "3.9.7"
  },
  "orig_nbformat": 4,
  "vscode": {
   "interpreter": {
    "hash": "749c1fa42b8e77c9a897cb355f30513a81f4759733e4abb52f463cfc3ac7781a"
   }
  }
 },
 "nbformat": 4,
 "nbformat_minor": 2
}
